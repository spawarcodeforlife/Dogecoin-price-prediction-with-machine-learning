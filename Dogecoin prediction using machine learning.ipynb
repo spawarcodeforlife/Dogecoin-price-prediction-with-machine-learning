{
 "cells": [
  {
   "cell_type": "code",
   "execution_count": 1,
   "id": "4d6cf8fe",
   "metadata": {},
   "outputs": [
    {
     "data": {
      "text/plain": [
       "'/Users/surajpawar/Desktop/Dogecoin prediction with machine learning'"
      ]
     },
     "execution_count": 1,
     "metadata": {},
     "output_type": "execute_result"
    }
   ],
   "source": [
    "pwd"
   ]
  },
  {
   "cell_type": "code",
   "execution_count": null,
   "id": "54b99a58",
   "metadata": {},
   "outputs": [],
   "source": [
    "import numpy as np\n",
    "import pandas as pd\n",
    "import matplotlib.pyplot as plt\n",
    "import seaborn as sns"
   ]
  },
  {
   "cell_type": "code",
   "execution_count": null,
   "id": "da424545",
   "metadata": {},
   "outputs": [],
   "source": [
    "from seaborn import regression\n",
    "plt.style.use(\"seaborn-whitegrid\")"
   ]
  },
  {
   "cell_type": "code",
   "execution_count": null,
   "id": "12e95b33",
   "metadata": {},
   "outputs": [],
   "source": [
    "sns.set()"
   ]
  },
  {
   "cell_type": "code",
   "execution_count": null,
   "id": "d147f070",
   "metadata": {},
   "outputs": [],
   "source": [
    "data = pd.read_csv(\"/Users/surajpawar/Desktop/Dogecoin prediction with machine learning/DOGE-USD.csv\")\n",
    "\n",
    "data.head()"
   ]
  },
  {
   "cell_type": "code",
   "execution_count": null,
   "id": "e53964c9",
   "metadata": {},
   "outputs": [],
   "source": [
    "data.dropna()\n",
    "plt.figure(figsize=(10,4))\n",
    "plt.title(\"Dogecoin Price USD\")\n",
    "plt.xlabel(\"Date\")\n",
    "plt.ylabel(\"Close\")\n",
    "plt.plot(data[\"Close\"])\n",
    "plt.show()"
   ]
  },
  {
   "cell_type": "code",
   "execution_count": 13,
   "id": "1fb42d16",
   "metadata": {},
   "outputs": [
    {
     "name": "stdout",
     "output_type": "stream",
     "text": [
      "Requirement already satisfied: autots in /Users/surajpawar/Desktop/anaconda3/lib/python3.10/site-packages (0.5.7)\n",
      "Requirement already satisfied: numpy>=1.14.6 in /Users/surajpawar/Desktop/anaconda3/lib/python3.10/site-packages (from autots) (1.23.5)\n",
      "Requirement already satisfied: scikit-learn>=0.20.0 in /Users/surajpawar/Desktop/anaconda3/lib/python3.10/site-packages (from autots) (1.2.1)\n",
      "Requirement already satisfied: statsmodels>=0.10.0 in /Users/surajpawar/Desktop/anaconda3/lib/python3.10/site-packages (from autots) (0.13.5)\n",
      "Requirement already satisfied: pandas>=0.25.0 in /Users/surajpawar/Desktop/anaconda3/lib/python3.10/site-packages (from autots) (1.5.3)\n",
      "Requirement already satisfied: python-dateutil>=2.8.1 in /Users/surajpawar/Desktop/anaconda3/lib/python3.10/site-packages (from pandas>=0.25.0->autots) (2.8.2)\n",
      "Requirement already satisfied: pytz>=2020.1 in /Users/surajpawar/Desktop/anaconda3/lib/python3.10/site-packages (from pandas>=0.25.0->autots) (2022.7)\n",
      "Requirement already satisfied: scipy>=1.3.2 in /Users/surajpawar/Desktop/anaconda3/lib/python3.10/site-packages (from scikit-learn>=0.20.0->autots) (1.10.0)\n",
      "Requirement already satisfied: threadpoolctl>=2.0.0 in /Users/surajpawar/Desktop/anaconda3/lib/python3.10/site-packages (from scikit-learn>=0.20.0->autots) (2.2.0)\n",
      "Requirement already satisfied: joblib>=1.1.1 in /Users/surajpawar/Desktop/anaconda3/lib/python3.10/site-packages (from scikit-learn>=0.20.0->autots) (1.1.1)\n",
      "Requirement already satisfied: packaging>=21.3 in /Users/surajpawar/Desktop/anaconda3/lib/python3.10/site-packages (from statsmodels>=0.10.0->autots) (22.0)\n",
      "Requirement already satisfied: patsy>=0.5.2 in /Users/surajpawar/Desktop/anaconda3/lib/python3.10/site-packages (from statsmodels>=0.10.0->autots) (0.5.3)\n",
      "Requirement already satisfied: six in /Users/surajpawar/Desktop/anaconda3/lib/python3.10/site-packages (from patsy>=0.5.2->statsmodels>=0.10.0->autots) (1.16.0)\n",
      "Note: you may need to restart the kernel to use updated packages.\n"
     ]
    }
   ],
   "source": [
    "pip install autots"
   ]
  },
  {
   "cell_type": "code",
   "execution_count": null,
   "id": "0738aecd",
   "metadata": {},
   "outputs": [],
   "source": [
    "from autots import AutoTS\n",
    "model = AutoTS(forecast_length=10, frequency='infer', ensemble='simple', drop_data_older_than_periods=200)\n",
    "model = model.fit(data, date_col=\"Date\", value_col = \"Close\", id_col=None)\n",
    "\n",
    "prediction = model.predict\n",
    "forecast = prediction.forecast\n",
    "print(\"Dogecoin Price Prediction\")\n",
    "print(forecast)"
   ]
  },
  {
   "cell_type": "code",
   "execution_count": null,
   "id": "883c4b10",
   "metadata": {},
   "outputs": [],
   "source": []
  }
 ],
 "metadata": {
  "kernelspec": {
   "display_name": "Python 3 (ipykernel)",
   "language": "python",
   "name": "python3"
  },
  "language_info": {
   "codemirror_mode": {
    "name": "ipython",
    "version": 3
   },
   "file_extension": ".py",
   "mimetype": "text/x-python",
   "name": "python",
   "nbconvert_exporter": "python",
   "pygments_lexer": "ipython3",
   "version": "3.10.9"
  }
 },
 "nbformat": 4,
 "nbformat_minor": 5
}
